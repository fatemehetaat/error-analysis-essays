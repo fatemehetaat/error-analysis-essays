{
 "cells": [
  {
   "cell_type": "code",
   "execution_count": null,
   "id": "1baf9ff8",
   "metadata": {},
   "outputs": [],
   "source": [
    "!pip install language-tool-python"
   ]
  },
  {
   "cell_type": "code",
   "execution_count": null,
   "id": "6a403765",
   "metadata": {},
   "outputs": [],
   "source": [
    "import language_tool_python\n",
    "import pandas as pd\n",
    "import matplotlib.pyplot as plt"
   ]
  },
  {
   "cell_type": "markdown",
   "id": "d7c08226",
   "metadata": {},
   "source": [
    "# Error analysis in a sample text"
   ]
  },
  {
   "cell_type": "code",
   "execution_count": null,
   "id": "0967cfdc",
   "metadata": {},
   "outputs": [],
   "source": [
    "import language_tool_python\n",
    "from collections import Counter\n",
    "\n",
    "# Initialize LanguageTool\n",
    "tool = language_tool_python.LanguageTool('en-US')\n",
    "\n",
    "# Sample text with different kinds of issues\n",
    "sample_text = \"\"\"\n",
    "This are an example of a bad sentence. It do not make much sense.\n",
    "There is alot of mistakes, like misspelings and bad style.\n",
    "I seen that before, its not unpossible.\n",
    "\"\"\"\n",
    "\n",
    "# Check the text\n",
    "matches = tool.check(sample_text)\n",
    "\n",
    "# Extract and count error types\n",
    "error_types = [match.ruleIssueType for match in matches]\n",
    "error_counts = Counter(error_types)\n",
    "\n",
    "# Print all unique types and their counts\n",
    "print(\"Detected Error Types:\")\n",
    "for error_type, count in error_counts.items():\n",
    "    print(f\"{error_type}: {count}\")\n"
   ]
  },
  {
   "cell_type": "code",
   "execution_count": null,
   "id": "3feb586f",
   "metadata": {},
   "outputs": [],
   "source": [
    "text = \"This are incorrect sentence with mistake.\"\n",
    "matches = tool.check(text)\n",
    "print(f\"{len(matches)} issues found.\")\n",
    "for match in matches:\n",
    "    print(match.ruleId, \":\", match.message)"
   ]
  },
  {
   "cell_type": "markdown",
   "id": "888678d8",
   "metadata": {},
   "source": [
    "# Error analysis in the raw essay files"
   ]
  },
  {
   "cell_type": "code",
   "execution_count": null,
   "id": "ad0932bf",
   "metadata": {},
   "outputs": [],
   "source": [
    "# Initialize the grammar checking tool\n",
    "tool = language_tool_python.LanguageTool('en-US')\n",
    "\n",
    "# === Step 1: Load Raw Essay Files ===\n",
    "def load_essays(filepath):\n",
    "    with open(filepath, 'r', encoding='utf-8') as f:\n",
    "        essays = f.read().strip().split('\\n')\n",
    "    return pd.DataFrame({'Essay Text': essays})\n",
    "\n",
    "df_ai = load_essays(r\"C:\\Users\\...\\AI_essays.txt\")\n",
    "df_human = load_essays(r\"C:\\Users\\...\\human_essays.txt\")\n"
   ]
  },
  {
   "cell_type": "code",
   "execution_count": null,
   "id": "98f9f99f",
   "metadata": {},
   "outputs": [],
   "source": [
    "# === Step 2: Analyze Errors in One Essay ===\n",
    "def analyze_errors(text):\n",
    "    matches = tool.check(text)\n",
    "    error_count = len(matches)\n",
    "    words = len(text.split())\n",
    "    errors_per_100_words = (error_count / words) * 100 if words > 0 else 0\n",
    "    error_types = [match.ruleIssueType for match in matches]\n",
    "    return error_count, errors_per_100_words, error_types\n"
   ]
  },
  {
   "cell_type": "code",
   "execution_count": null,
   "id": "cbcf29a0",
   "metadata": {},
   "outputs": [],
   "source": [
    "# === Step 3: Summarize Errors for a Dataset ===\n",
    "def error_summary(df):\n",
    "    total_errors = 0\n",
    "    total_words = 0\n",
    "    error_type_counter = {}\n",
    "\n",
    "    for text in df['Essay Text']:\n",
    "        count, _, types = analyze_errors(text)\n",
    "        total_errors += count\n",
    "        total_words += len(text.split())\n",
    "        for et in types:\n",
    "            error_type_counter[et] = error_type_counter.get(et, 0) + 1\n",
    "\n",
    "    overall_errors_per_100 = (total_errors / total_words) * 100 if total_words > 0 else 0\n",
    "    return total_errors, overall_errors_per_100, error_type_counter"
   ]
  },
  {
   "cell_type": "code",
   "execution_count": null,
   "id": "223e4c9b",
   "metadata": {},
   "outputs": [],
   "source": [
    "# === Step 4: Run Error Analysis on Both Datasets ===\n",
    "ai_errors, ai_err_rate, ai_err_types = error_summary(df_ai)\n",
    "print(f\"AI Essays: {ai_errors} total errors, {ai_err_rate:.2f} errors per 100 words\")\n",
    "\n",
    "human_errors, human_err_rate, human_err_types = error_summary(df_human)\n",
    "print(f\"Human Essays: {human_errors} total errors, {human_err_rate:.2f} errors per 100 words\")"
   ]
  },
  {
   "cell_type": "code",
   "execution_count": null,
   "id": "0b8184d1",
   "metadata": {},
   "outputs": [],
   "source": [
    "# === Step 5: Compare Error Types ===\n",
    "error_df = pd.DataFrame([ai_err_types, human_err_types], index=['AI Essays', 'Human Essays']).fillna(0).astype(int).T\n",
    "error_df['Difference'] = error_df['AI Essays'] - error_df['Human Essays']\n",
    "error_df_sorted = error_df.sort_values(by='Difference', ascending=False)\n",
    "\n",
    "# Normalized Stacked Bar Chart\n",
    "error_percent = error_df_sorted[['AI Essays', 'Human Essays']].div(\n",
    "    error_df_sorted[['AI Essays', 'Human Essays']].sum(axis=0), axis=1\n",
    ")\n",
    "error_percent.plot(kind='bar', stacked=True, figsize=(12, 6), colormap='tab10')\n",
    "plt.title('Proportion of Error Types in AI vs. Human Essays')\n",
    "plt.ylabel('Proportion')\n",
    "plt.xlabel('Error Type')\n",
    "plt.xticks(rotation=45)\n",
    "plt.tight_layout()\n",
    "plt.show()"
   ]
  },
  {
   "cell_type": "code",
   "execution_count": null,
   "id": "9aeaffcd",
   "metadata": {},
   "outputs": [],
   "source": [
    "# === Step 6: Visualizations ===\n",
    "\n",
    "# Bar Chart of Error Types\n",
    "error_df_sorted[['AI Essays', 'Human Essays']].plot(kind='bar', figsize=(12,6))\n",
    "plt.title('Frequency of Error Types in AI vs. Human Essays')\n",
    "plt.ylabel('Count')\n",
    "plt.xlabel('Error Type')\n",
    "plt.xticks(rotation=45)\n",
    "plt.tight_layout()\n",
    "plt.show()"
   ]
  },
  {
   "cell_type": "markdown",
   "id": "d4baeb03",
   "metadata": {},
   "source": [
    "# Error analysis in the first 5 essays, chunks of the whole file"
   ]
  },
  {
   "cell_type": "code",
   "execution_count": null,
   "id": "c5495082",
   "metadata": {},
   "outputs": [],
   "source": [
    "import language_tool_python\n",
    "import pandas as pd\n",
    "import matplotlib.pyplot as plt\n",
    "from collections import defaultdict\n",
    "tool = language_tool_python.LanguageTool('en-US')"
   ]
  },
  {
   "cell_type": "code",
   "execution_count": null,
   "id": "5fe1b944",
   "metadata": {},
   "outputs": [],
   "source": [
    "def load_essays(filepath):\n",
    "    with open(filepath, 'r', encoding='utf-8') as f:\n",
    "        essays = f.read().strip().split('\\n')\n",
    "    return pd.DataFrame({'Essay Text': essays})\n",
    "    \n",
    "# Load only first 5 essays from each\n",
    "df_ai = load_essays(r\"C:\\Users\\fatim\\OneDrive\\Bilder\\Skrivebord\\text mining\\AI_essays.txt\").head(5)\n",
    "df_human = load_essays(r\"C:\\Users\\fatim\\OneDrive\\Bilder\\Skrivebord\\text mining\\human_essays.txt\").head(5)\n"
   ]
  },
  {
   "cell_type": "code",
   "execution_count": null,
   "id": "522879ec",
   "metadata": {},
   "outputs": [],
   "source": [
    "def analyze_errors(text):\n",
    "    matches = tool.check(text)\n",
    "    error_count = len(matches)\n",
    "    words = len(text.split())\n",
    "    errors_per_100_words = (error_count / words) * 100 if words > 0 else 0\n",
    "    error_types = [match.ruleIssueType for match in matches]\n",
    "    return error_count, errors_per_100_words, error_types\n",
    "\n",
    "def error_summary(df, label=\"\"):\n",
    "    total_errors = 0\n",
    "    total_words = 0\n",
    "    error_type_counter = defaultdict(int)\n",
    "\n",
    "    for i, text in enumerate(df['Essay Text']):\n",
    "        print(f\"[{label}] Analyzing essay {i+1}/{len(df)}...\")\n",
    "        try:\n",
    "            count, _, types = analyze_errors(text)\n",
    "            total_errors += count\n",
    "            total_words += len(text.split())\n",
    "            for et in types:\n",
    "                error_type_counter[et] += 1\n",
    "        except Exception as e:\n",
    "            print(f\"Error on essay {i+1}: {e}\")\n",
    "    \n",
    "    overall_errors_per_100 = (total_errors / total_words) * 100 if total_words > 0 else 0\n",
    "    return total_errors, overall_errors_per_100, dict(error_type_counter)\n"
   ]
  },
  {
   "cell_type": "code",
   "execution_count": null,
   "id": "2b1c132c",
   "metadata": {},
   "outputs": [],
   "source": [
    "ai_errors, ai_err_rate, ai_err_types = error_summary(df_ai, label=\"AI\")\n",
    "human_errors, human_err_rate, human_err_types = error_summary(df_human, label=\"Human\")"
   ]
  },
  {
   "cell_type": "code",
   "execution_count": null,
   "id": "7dce246f",
   "metadata": {},
   "outputs": [],
   "source": [
    "print(f\"\\nAI Essays: {ai_errors} total errors, {ai_err_rate:.2f} errors per 100 words\")\n",
    "print(f\"Human Essays: {human_errors} total errors, {human_err_rate:.2f} errors per 100 words\")\n"
   ]
  },
  {
   "cell_type": "code",
   "execution_count": null,
   "id": "44fb42da",
   "metadata": {},
   "outputs": [],
   "source": [
    "# Create DataFrame\n",
    "error_df = pd.DataFrame([ai_err_types, human_err_types], index=['AI Essays', 'Human Essays']).fillna(0).astype(int).T\n",
    "error_df['Difference'] = error_df['AI Essays'] - error_df['Human Essays']\n",
    "error_df = error_df.sort_values(by='Difference', ascending=False)\n",
    "\n",
    "# Print\n",
    "display(error_df)"
   ]
  },
  {
   "cell_type": "code",
   "execution_count": null,
   "id": "abb58392",
   "metadata": {},
   "outputs": [],
   "source": [
    "# Absolute Counts\n",
    "error_df[['AI Essays', 'Human Essays']].plot(kind='bar', figsize=(12,6))\n",
    "plt.title('Error Types in AI vs. Human Essays (First 5)')\n",
    "plt.ylabel('Count')\n",
    "plt.xlabel('Error Type')\n",
    "plt.xticks(rotation=45)\n",
    "plt.tight_layout()\n",
    "plt.show()\n",
    "\n",
    "# Normalized Stacked Bar Chart\n",
    "error_percent = error_df[['AI Essays', 'Human Essays']].div(\n",
    "    error_df[['AI Essays', 'Human Essays']].sum(axis=0), axis=1\n",
    ")\n",
    "error_percent.plot(kind='bar', stacked=True, figsize=(12, 6), colormap='tab10')\n",
    "plt.title('Proportional Error Types in AI vs. Human Essays (First 5)')\n",
    "plt.ylabel('Proportion')\n",
    "plt.xlabel('Error Type')\n",
    "plt.xticks(rotation=45)\n",
    "plt.tight_layout()\n",
    "plt.show()"
   ]
  }
 ],
 "metadata": {
  "kernelspec": {
   "display_name": "Python 3 (ipykernel)",
   "language": "python",
   "name": "python3"
  },
  "language_info": {
   "codemirror_mode": {
    "name": "ipython",
    "version": 3
   },
   "file_extension": ".py",
   "mimetype": "text/x-python",
   "name": "python",
   "nbconvert_exporter": "python",
   "pygments_lexer": "ipython3",
   "version": "3.11.7"
  }
 },
 "nbformat": 4,
 "nbformat_minor": 5
}
